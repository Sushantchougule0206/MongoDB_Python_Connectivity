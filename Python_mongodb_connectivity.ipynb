{
 "cells": [
  {
   "cell_type": "markdown",
   "id": "d553986b",
   "metadata": {},
   "source": [
    "# python mongodb connectivity"
   ]
  },
  {
   "cell_type": "code",
   "execution_count": 21,
   "id": "f24f3c08",
   "metadata": {},
   "outputs": [
    {
     "name": "stdout",
     "output_type": "stream",
     "text": [
      "welcome to pyMongo\n",
      "MongoClient(host=['localhost:27017'], document_class=dict, tz_aware=False, connect=True)\n"
     ]
    }
   ],
   "source": [
    "import pymongo\n",
    "from pymongo import MongoClient\n",
    "\n",
    "\n",
    "if __name__==\"__main__\":\n",
    "    print(\"welcome to pyMongo\")\n",
    "    client = pymongo.MongoClient(\"mongodb://localhost:27017\")\n",
    "    print(client)"
   ]
  },
  {
   "cell_type": "markdown",
   "id": "1a5203a5",
   "metadata": {},
   "source": [
    "# Show Databases"
   ]
  },
  {
   "cell_type": "code",
   "execution_count": 23,
   "id": "1d089ff3",
   "metadata": {},
   "outputs": [
    {
     "name": "stdout",
     "output_type": "stream",
     "text": [
      "['admin', 'config', 'local', 'sigma']\n"
     ]
    }
   ],
   "source": [
    "alldbs=client.list_database_names() \n",
    "print(alldbs)"
   ]
  },
  {
   "cell_type": "markdown",
   "id": "65d4df68",
   "metadata": {},
   "source": [
    "# Create Database,Collection"
   ]
  },
  {
   "cell_type": "code",
   "execution_count": 24,
   "id": "23d6b103",
   "metadata": {},
   "outputs": [],
   "source": [
    "dbms=client[\"iacsd\"]\n",
    "collection=dbms['student']"
   ]
  },
  {
   "cell_type": "markdown",
   "id": "bfbe2044",
   "metadata": {},
   "source": [
    "# Insert operations"
   ]
  },
  {
   "cell_type": "code",
   "execution_count": 25,
   "id": "0521ad87",
   "metadata": {},
   "outputs": [
    {
     "data": {
      "text/plain": [
       "InsertOneResult(ObjectId('66508be30210da6f332386f7'), acknowledged=True)"
      ]
     },
     "execution_count": 25,
     "metadata": {},
     "output_type": "execute_result"
    }
   ],
   "source": [
    "#insert OneRecord\n",
    "dictionary={\"name\":\"Ramesh\",\"Location\":\"Pune\",\"Marks\":90}\n",
    "collection.insert_one(dictionary)"
   ]
  },
  {
   "cell_type": "code",
   "execution_count": 26,
   "id": "19175e43",
   "metadata": {},
   "outputs": [
    {
     "data": {
      "text/plain": [
       "InsertManyResult([ObjectId('66508bfd0210da6f332386f8'), ObjectId('66508bfd0210da6f332386f9'), ObjectId('66508bfd0210da6f332386fa'), ObjectId('66508bfd0210da6f332386fb'), ObjectId('66508bfd0210da6f332386fc')], acknowledged=True)"
      ]
     },
     "execution_count": 26,
     "metadata": {},
     "output_type": "execute_result"
    }
   ],
   "source": [
    "#insert ManyRecords\n",
    "insertThese=[\n",
    "    {\"name\":\"Suresh\",\"Location\":\"Mumbai\",\"Marks\":93},\n",
    "    {\"name\":\"Rakesh\",\"Location\":\"Chennai\",\"Marks\":92},\n",
    "    {\"name\":\"Paresh\",\"Location\":\"Delhi\",\"Marks\":95},\n",
    "    {\"name\":\"Kamlesh\",\"Location\":\"Benglore\",\"Marks\":97},\n",
    "    {\"name\":\"Jayesh\",\"Location\":\"Hydrabad\",\"Marks\":91}\n",
    "]\n",
    "\n",
    "collection.insert_many(insertThese)"
   ]
  },
  {
   "cell_type": "markdown",
   "id": "9e55ccb8",
   "metadata": {},
   "source": [
    "# Find Operation"
   ]
  },
  {
   "cell_type": "code",
   "execution_count": 27,
   "id": "ed576482",
   "metadata": {},
   "outputs": [
    {
     "name": "stdout",
     "output_type": "stream",
     "text": [
      "{'_id': ObjectId('66508be30210da6f332386f7'), 'name': 'Ramesh', 'Location': 'Pune', 'Marks': 90}\n"
     ]
    }
   ],
   "source": [
    "# find one operation\n",
    "one=collection.find_one()\n",
    "print(one)"
   ]
  },
  {
   "cell_type": "code",
   "execution_count": 28,
   "id": "6466566f",
   "metadata": {},
   "outputs": [
    {
     "name": "stdout",
     "output_type": "stream",
     "text": [
      "{'_id': ObjectId('66508bfd0210da6f332386fc'), 'name': 'Jayesh', 'Location': 'Hydrabad', 'Marks': 91}\n"
     ]
    }
   ],
   "source": [
    "one1=collection.find_one({\"name\":\"Jayesh\"})\n",
    "print(one1)"
   ]
  },
  {
   "cell_type": "code",
   "execution_count": 29,
   "id": "180a7029",
   "metadata": {},
   "outputs": [
    {
     "name": "stdout",
     "output_type": "stream",
     "text": [
      "{'_id': ObjectId('66508be30210da6f332386f7'), 'name': 'Ramesh', 'Location': 'Pune', 'Marks': 90}\n",
      "{'_id': ObjectId('66508bfd0210da6f332386f8'), 'name': 'Suresh', 'Location': 'Mumbai', 'Marks': 93}\n",
      "{'_id': ObjectId('66508bfd0210da6f332386f9'), 'name': 'Rakesh', 'Location': 'Chennai', 'Marks': 92}\n",
      "{'_id': ObjectId('66508bfd0210da6f332386fa'), 'name': 'Paresh', 'Location': 'Delhi', 'Marks': 95}\n",
      "{'_id': ObjectId('66508bfd0210da6f332386fb'), 'name': 'Kamlesh', 'Location': 'Benglore', 'Marks': 97}\n",
      "{'_id': ObjectId('66508bfd0210da6f332386fc'), 'name': 'Jayesh', 'Location': 'Hydrabad', 'Marks': 91}\n"
     ]
    }
   ],
   "source": [
    "# find all operation\n",
    "alldocs=collection.find()\n",
    "for item in alldocs:\n",
    "    print(item)"
   ]
  },
  {
   "cell_type": "markdown",
   "id": "edb3e0a2",
   "metadata": {},
   "source": [
    "# Update Operation"
   ]
  },
  {
   "cell_type": "code",
   "execution_count": 30,
   "id": "2b31e1a4",
   "metadata": {},
   "outputs": [
    {
     "name": "stdout",
     "output_type": "stream",
     "text": [
      "UpdateResult({'n': 1, 'nModified': 1, 'ok': 1.0, 'updatedExisting': True}, acknowledged=True)\n"
     ]
    }
   ],
   "source": [
    "# update one operation\n",
    "prev = {\"name\":\"Ramesh\"}\n",
    "next = {\"$set\":{\"Location\":\"USA\"}}\n",
    "one=collection.update_one(prev,next) # one=collection.update_one({\"name\":\"Ramesh\"},{\"$set\":{\"Location\":\"Kolkata\"}})\n",
    "print(one)"
   ]
  },
  {
   "cell_type": "code",
   "execution_count": 32,
   "id": "196e215e",
   "metadata": {},
   "outputs": [],
   "source": [
    "# update using for loop\n",
    "name = [\"Ramesh\", \"Paresh\", \"Suresh\"]\n",
    "for i in name:\n",
    "    collection.update_one({\"name\":i},{\"$set\":{\"Location\":\"Kolkata\"}})"
   ]
  },
  {
   "cell_type": "code",
   "execution_count": null,
   "id": "2c67fd98",
   "metadata": {},
   "outputs": [],
   "source": [
    "# update many operation\n",
    "prev = {\"name\":\"Paresh\"}\n",
    "next = {\"$set\":{\"Location\":\"Kolkata\", \"Marks\":100}}\n",
    "up=collection.update_many(prev,next)\n",
    "print(up)\n",
    "print(up.modified_count)"
   ]
  },
  {
   "cell_type": "markdown",
   "id": "ee669709",
   "metadata": {},
   "source": [
    "# Regular Expression"
   ]
  },
  {
   "cell_type": "code",
   "execution_count": 33,
   "id": "f0fd627a",
   "metadata": {},
   "outputs": [
    {
     "name": "stdout",
     "output_type": "stream",
     "text": [
      "{'_id': ObjectId('66508be30210da6f332386f7'), 'name': 'Ramesh', 'Location': 'Kolkata', 'Marks': 90}\n",
      "{'_id': ObjectId('66508bfd0210da6f332386f8'), 'name': 'Suresh', 'Location': 'Kolkata', 'Marks': 93}\n",
      "{'_id': ObjectId('66508bfd0210da6f332386fa'), 'name': 'Paresh', 'Location': 'Kolkata', 'Marks': 95}\n"
     ]
    }
   ],
   "source": [
    "# 1.find records where Location ends with \"a\"\n",
    "reg={\"Location\":{\"$regex\":\"a$\"}}\n",
    "documents=collection.find(reg)\n",
    "for record in documents:\n",
    "    print(record)"
   ]
  },
  {
   "cell_type": "code",
   "execution_count": 34,
   "id": "321a97c8",
   "metadata": {},
   "outputs": [
    {
     "name": "stdout",
     "output_type": "stream",
     "text": [
      "{'_id': ObjectId('66508bfd0210da6f332386fa'), 'name': 'Paresh', 'Location': 'Kolkata', 'Marks': 95}\n"
     ]
    }
   ],
   "source": [
    "# 1. find records whoes name starts with P\n",
    "reg1 = {\"name\": {\"$regex\": \"^P\"}}\n",
    "documents=collection.find(reg1)\n",
    "for record in documents:\n",
    "    print(record)"
   ]
  },
  {
   "cell_type": "markdown",
   "id": "356bf732",
   "metadata": {},
   "source": [
    "# Aggregation Pipeline or Operation "
   ]
  },
  {
   "cell_type": "code",
   "execution_count": 35,
   "id": "d10020f5",
   "metadata": {},
   "outputs": [
    {
     "name": "stdout",
     "output_type": "stream",
     "text": [
      "{'_id': 'Chennai', 'averageMarks': 92.0}\n",
      "{'_id': 'Hydrabad', 'averageMarks': 91.0}\n",
      "{'_id': 'Kolkata', 'averageMarks': 92.66666666666667}\n",
      "{'_id': 'Benglore', 'averageMarks': 97.0}\n"
     ]
    }
   ],
   "source": [
    "pipeline = [{'$group': {'_id':'$Location', 'averageMarks':{'$avg': '$Marks'}}}]\n",
    "alldocs=collection.aggregate(pipeline)\n",
    "for item in alldocs:\n",
    "    print(item)"
   ]
  },
  {
   "cell_type": "code",
   "execution_count": 36,
   "id": "b8f23707",
   "metadata": {},
   "outputs": [
    {
     "name": "stdout",
     "output_type": "stream",
     "text": [
      "{'name': 'Ramesh', 'Marks': 90}\n",
      "{'name': 'Suresh', 'Marks': 93}\n",
      "{'name': 'Rakesh', 'Marks': 92}\n",
      "{'name': 'Paresh', 'Marks': 95}\n",
      "{'name': 'Kamlesh', 'Marks': 97}\n",
      "{'name': 'Jayesh', 'Marks': 91}\n"
     ]
    }
   ],
   "source": [
    "pipeline = [{'$project': {'_id':0, 'name':1, 'Marks':1}}]\n",
    "alldocs=collection.aggregate(pipeline)\n",
    "for item in alldocs:\n",
    "    print(item)"
   ]
  },
  {
   "cell_type": "code",
   "execution_count": null,
   "id": "6301a9f7",
   "metadata": {},
   "outputs": [],
   "source": [
    "pipeline = [{'$group': {'_id':'$Location', 'averageMarks':{'$avg': '$Marks'}}}]\n",
    "alldocs=collection.aggregate(pipeline)\n",
    "for item in alldocs:\n",
    "    print(item)"
   ]
  },
  {
   "cell_type": "code",
   "execution_count": null,
   "id": "d2834d02",
   "metadata": {},
   "outputs": [],
   "source": [
    "pipeline = [{'$group': {'_id':None, 'totalMarks':{'$sum': '$Marks'}}}]\n",
    "alldocs=collection.aggregate(pipeline)\n",
    "for item in alldocs:\n",
    "    print(item)"
   ]
  },
  {
   "cell_type": "code",
   "execution_count": null,
   "id": "1932c74a",
   "metadata": {},
   "outputs": [],
   "source": [
    "pipeline = [{'$group': {'_id':None, 'minMarks':{'$min': '$Marks'}}}]\n",
    "    alldocs=collection.aggregate(pipeline)\n",
    "    for item in alldocs:\n",
    "            print(item)"
   ]
  },
  {
   "cell_type": "code",
   "execution_count": null,
   "id": "c6601ab2",
   "metadata": {},
   "outputs": [],
   "source": [
    "pipeline = [{'$group': {'_id':None, 'maxMarks':{'$max': '$Marks'}}}]\n",
    "alldocs=collection.aggregate(pipeline)\n",
    "for item in alldocs:\n",
    "    print(item)"
   ]
  },
  {
   "cell_type": "markdown",
   "id": "5e17c86f",
   "metadata": {},
   "source": [
    "# Delete operation"
   ]
  },
  {
   "cell_type": "code",
   "execution_count": 37,
   "id": "0a1c6f44",
   "metadata": {},
   "outputs": [
    {
     "name": "stdout",
     "output_type": "stream",
     "text": [
      "DeleteResult({'n': 1, 'ok': 1.0}, acknowledged=True)\n"
     ]
    }
   ],
   "source": [
    "# delete one operation\n",
    "rec = {\"name\":\"Kamlesh\"}\n",
    "one=collection.delete_one(rec)\n",
    "print(one)"
   ]
  },
  {
   "cell_type": "code",
   "execution_count": null,
   "id": "6ac1e534",
   "metadata": {},
   "outputs": [],
   "source": [
    "# delete many operation\n",
    "rec = {\"name\":\"Jayesh\"}\n",
    "many=collection.delete_many(rec)\n",
    "print(many)\n",
    "print(many.deleted_count)"
   ]
  }
 ],
 "metadata": {
  "kernelspec": {
   "display_name": "Python 3",
   "language": "python",
   "name": "python3"
  },
  "language_info": {
   "codemirror_mode": {
    "name": "ipython",
    "version": 3
   },
   "file_extension": ".py",
   "mimetype": "text/x-python",
   "name": "python",
   "nbconvert_exporter": "python",
   "pygments_lexer": "ipython3",
   "version": "3.8.8"
  }
 },
 "nbformat": 4,
 "nbformat_minor": 5
}
